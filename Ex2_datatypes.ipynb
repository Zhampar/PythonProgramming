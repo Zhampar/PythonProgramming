{
  "cells": [
    {
      "cell_type": "markdown",
      "metadata": {
        "id": "view-in-github",
        "colab_type": "text"
      },
      "source": [
        "<a href=\"https://colab.research.google.com/github/Zhampar/PythonProgramming/blob/main/Ex2_datatypes.ipynb\" target=\"_parent\"><img src=\"https://colab.research.google.com/assets/colab-badge.svg\" alt=\"Open In Colab\"/></a>"
      ]
    },
    {
      "cell_type": "markdown",
      "metadata": {
        "id": "X_Unw3z9u2-7"
      },
      "source": [
        "Ex 1 : Check the lenght of the string \"My name is python\""
      ]
    },
    {
      "cell_type": "code",
      "execution_count": null,
      "metadata": {
        "id": "rDrhTuNlTwEj"
      },
      "outputs": [],
      "source": [
        "s = \"My name is python\"\n",
        "print(len(s))"
      ]
    },
    {
      "cell_type": "markdown",
      "metadata": {
        "id": "ok-UZTm_TwEk"
      },
      "source": [
        "Ex 2: Check the number of times \"python\" (regardless of cases: PYTHON, python, Python\" appears in the paragraph : \"Floating-point values in Python are always done in double precision; hence, Python float types correspond to doubles in a C-like language.\""
      ]
    },
    {
      "cell_type": "code",
      "execution_count": null,
      "metadata": {
        "id": "0OsG1aNBTwEl"
      },
      "outputs": [],
      "source": [
        "s = \"Floating-point values in Python are always done in double precision; hence, Python float types correspond to doubles in a C-like language.\"\n",
        "print(s.lower().count(\"python\"))"
      ]
    },
    {
      "cell_type": "markdown",
      "metadata": {
        "id": "JK8nywohTwEo"
      },
      "source": [
        "Ex 3: Combine two lists : ls1 = [\"apple\", \"banana\", \"cherry\"] and ls2 = [\"apple\", \"banana\", \"cherry\", \"apple\", \"cherry\"]. Print the number of elements in new list."
      ]
    },
    {
      "cell_type": "code",
      "execution_count": null,
      "metadata": {
        "id": "vumEiOiCTwEp"
      },
      "outputs": [],
      "source": [
        "ls1 = [\"apple\", \"banana\", \"cherry\"]\n",
        "ls2 = [\"apple\", \"banana\", \"cherry\", \"apple\", \"cherry\"]\n",
        "combined = ls1 + ls2\n",
        "print(len(combined))"
      ]
    },
    {
      "cell_type": "markdown",
      "metadata": {
        "id": "-KWCWxlTTwEq"
      },
      "source": [
        "Ex 4: Create a dictionary for the following table:"
      ]
    },
    {
      "cell_type": "markdown",
      "metadata": {
        "id": "tcEXCqbiTwEq"
      },
      "source": [
        "| Name | Age |\n",
        "| --- | --- |\n",
        "| Myo | 32 |\n",
        "| Thida | 64 |"
      ]
    },
    {
      "cell_type": "code",
      "execution_count": null,
      "metadata": {
        "id": "PvpPPlWkTwEs"
      },
      "outputs": [],
      "source": [
        "person = {\n",
        "    \"Myo\": 32,\n",
        "    \"Thida\": 64\n",
        "}\n",
        "print(person)"
      ]
    },
    {
      "cell_type": "markdown",
      "metadata": {
        "id": "ug-DvTrUTwEs"
      },
      "source": [
        "Ex 5: Combine two sets and print the combined set and its length.\n",
        "set1 = {\"Name\", \"age\", \"Height\"}\n",
        "set2 = {\"Name\", \"status\", \"Education\"}"
      ]
    },
    {
      "cell_type": "code",
      "execution_count": null,
      "metadata": {
        "id": "DijAfLO4TwEt"
      },
      "outputs": [],
      "source": [
        "set1 = {\"Name\", \"age\", \"Height\"}\n",
        "set2 = {\"Name\", \"status\", \"Education\"}\n",
        "combined_set = set1.union(set2)\n",
        "print(combined_set)\n",
        "print(len(combined_set))"
      ]
    },
    {
      "cell_type": "markdown",
      "metadata": {
        "id": "3ZgaARl3TwEt"
      },
      "source": [
        "Ex 6: Write a program that asks the user to enter a string. The program should create a new string called new_string from the user's string such that the second character is changed to an asterisk and three exclamation points are attached to the end of the string. Finally, print new_string."
      ]
    },
    {
      "cell_type": "code",
      "execution_count": null,
      "metadata": {
        "id": "KlF3yyAdTwEt"
      },
      "outputs": [],
      "source": [
        "user_input = input(\"Enter a string: \")\n",
        "if len(user_input) > 1:\n",
        "    new_string = user_input[0] + \"*\" + user_input[2:] + \"!!!\"\n",
        "else:\n",
        "    new_string = user_input + \"!!!\"\n",
        "print(new_string)"
      ]
    },
    {
      "cell_type": "markdown",
      "metadata": {
        "id": "jz2yVf5wTwEu"
      },
      "source": [
        "Ex 7: Write a program that converts the given string 's' to lowercase, removes all Punctuation marks such as period, hyphen, and commas from 's', and prints the resulting string."
      ]
    },
    {
      "cell_type": "code",
      "execution_count": null,
      "metadata": {
        "id": "8E0wuFgXTwEu"
      },
      "outputs": [],
      "source": [
        "import string\n",
        "\n",
        "s = \"Floating-point values in Python are always done in double precision; hence, Python float types correspond to doubles in a C-like language.\"\n",
        "# Remove punctuation\n",
        "for char in \"-.,;\":\n",
        "    s = s.replace(char, \"\")\n",
        "print(s.lower())"
      ]
    },
    {
      "cell_type": "markdown",
      "metadata": {
        "id": "q4uUeN0NTwEv"
      },
      "source": [
        "Ex 8: L1 and L2 should be identical. Write a program that finds the missing number in L2."
      ]
    },
    {
      "cell_type": "code",
      "execution_count": null,
      "metadata": {
        "id": "rsHie7IMTwEv"
      },
      "outputs": [],
      "source": [
        "from random import randint\n",
        "\n",
        "L1 = list(range(1, 101))\n",
        "L2 = L1.copy()\n",
        "L2.remove(randint(1, 100))\n",
        "\n",
        "missing_number = list(set(L1) - set(L2))\n",
        "print(\"Missing number:\", missing_number[0])\n"
      ]
    },
    {
      "cell_type": "markdown",
      "metadata": {
        "id": "-JC_GRtLTwEw"
      },
      "source": [
        "Ex 9: Write a program to copy the ls1 = [\"apple\", \"banana\", \"cherry\"] to a new list. Add the element \"blueberry\" to the new list, but keep the original list the same."
      ]
    },
    {
      "cell_type": "code",
      "execution_count": null,
      "metadata": {
        "id": "jAVcJ11jTwEw"
      },
      "outputs": [],
      "source": [
        "ls1 = [\"apple\", \"banana\", \"cherry\"]\n",
        "ls2 = ls1.copy()\n",
        "ls2.append(\"blueberry\")\n",
        "print(\"Original list:\", ls1)\n",
        "print(\"New list:\", ls2)"
      ]
    }
  ],
  "metadata": {
    "colab": {
      "name": "Ex_2_datatypes.ipynb",
      "provenance": [],
      "include_colab_link": true
    },
    "kernelspec": {
      "display_name": "Python 3",
      "language": "python",
      "name": "python3"
    },
    "language_info": {
      "codemirror_mode": {
        "name": "ipython",
        "version": 3
      },
      "file_extension": ".py",
      "mimetype": "text/x-python",
      "name": "python",
      "nbconvert_exporter": "python",
      "pygments_lexer": "ipython3",
      "version": "3.12.1"
    }
  },
  "nbformat": 4,
  "nbformat_minor": 0
}